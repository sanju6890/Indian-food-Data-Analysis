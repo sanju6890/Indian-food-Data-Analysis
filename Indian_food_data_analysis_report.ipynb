{
  "nbformat": 4,
  "nbformat_minor": 0,
  "metadata": {
    "colab": {
      "name": "Indian_food_data_analysis-report.ipynb",
      "provenance": []
    },
    "kernelspec": {
      "display_name": "Python 3",
      "language": "python",
      "name": "python3"
    },
    "language_info": {
      "codemirror_mode": {
        "name": "ipython",
        "version": 3
      },
      "file_extension": ".py",
      "mimetype": "text/x-python",
      "name": "python",
      "nbconvert_exporter": "python",
      "pygments_lexer": "ipython3",
      "version": "3.8.5"
    }
  },
  "cells": [
    {
      "cell_type": "code",
      "metadata": {
        "id": "xjwjISnVxM1r"
      },
      "source": [
        "# Jovian Commit Essentials\n",
        "# Please retain and execute this cell without modifying the contents for `jovian.commit` to work\n",
        "!pip install jovian --upgrade -q\n",
        "import jovian\n",
        "jovian.utils.colab.set_colab_file_id('1hO4YEBFiixx9_y5MwfoCvCd5QE6Zu9b6')"
      ],
      "execution_count": null,
      "outputs": []
    },
    {
      "cell_type": "markdown",
      "metadata": {
        "id": "pc6ySOdgOrDR"
      },
      "source": [
        "# Indian Food Data Analysis Report\n",
        "\n",
        "## **Introduction:** Our country India is well known for its diversity in culture as well as for its large number of varieties in dishes.\n",
        "### This project is all about analysis of Indian-Food-Dishes data:\n",
        "* Regional analysis of Indian dishes.\n",
        "* Statewise analysis of Indian dishes.\n",
        "* Flavor i.e sweet, sour, spicy of different Indian dishes.\n",
        "* Veg/Non-veg analysis of Indian dishes.\n",
        "\n",
        "### Tools & techniques used in this project:\n",
        "* A good dataset having all the relevant informations regarding Indian dishes.\n",
        "* Python pandas library to convert the raw data into workable data frames.\n",
        "* Python matplotlib & seaborn library for data visualization.\n",
        "\n",
        "### Source of Data: https://www.kaggle.com/nehaprabhavalkar/indian-food-101\n",
        "\n",
        "#### *This report has been submitted as course project for the course Data Analysis with Python: Zero to Pandas.*"
      ]
    },
    {
      "cell_type": "markdown",
      "metadata": {
        "id": "j2qcmTaiOrDU"
      },
      "source": [
        "## Downloading the Dataset\n",
        "*   Using **opendatasets** library\n",
        "*   Providing the URL to download the dataset\n",
        "*   To download the dataset **.download** method is used"
      ]
    },
    {
      "cell_type": "code",
      "metadata": {
        "id": "8pMsMS1OOrDX"
      },
      "source": [
        "!pip install jovian opendatasets --upgrade --quiet"
      ],
      "execution_count": null,
      "outputs": []
    },
    {
      "cell_type": "code",
      "metadata": {
        "id": "qgP163iMOrDf"
      },
      "source": [
        "# Defining Dataset URL\n",
        "dataset_url = 'https://www.kaggle.com/nehaprabhavalkar/indian-food-101' "
      ],
      "execution_count": null,
      "outputs": []
    },
    {
      "cell_type": "code",
      "metadata": {
        "id": "IT3n97wvOrDm",
        "outputId": "63473619-d88c-4901-fcc1-00eb89c18ed5",
        "colab": {
          "base_uri": "https://localhost:8080/",
          "height": 67
        }
      },
      "source": [
        "import opendatasets as od\n",
        "od.download(dataset_url)"
      ],
      "execution_count": null,
      "outputs": [
        {
          "output_type": "stream",
          "text": [
            "Kaggle dataset ID:  nehaprabhavalkar/indian-food-101\n",
            "Using downloaded and verified file: ./indian-food-101.zip\n",
            "Extracting archive ./indian-food-101.zip to ./indian-food-101\n"
          ],
          "name": "stdout"
        }
      ]
    },
    {
      "cell_type": "code",
      "metadata": {
        "id": "v61cbFDmOrD_"
      },
      "source": [
        "project_name = \"indian-food-data-analysis-report\""
      ],
      "execution_count": null,
      "outputs": []
    },
    {
      "cell_type": "code",
      "metadata": {
        "id": "NfrN3lOhOrEF"
      },
      "source": [
        "!pip install jovian --upgrade -q"
      ],
      "execution_count": null,
      "outputs": []
    },
    {
      "cell_type": "markdown",
      "metadata": {
        "id": "L7IUz7OfOrEW"
      },
      "source": [
        "## Data Preparation and Cleaning\n",
        "*   Importing **pandas** library\n",
        "*   Creating **pandas data frames**\n",
        "*   Analysing the No. of rows & columns\n",
        "*   Droping the rows with Null values and invalid entries."
      ]
    },
    {
      "cell_type": "code",
      "metadata": {
        "id": "hv3H4IZrOrEX"
      },
      "source": [
        "import pandas as pd"
      ],
      "execution_count": null,
      "outputs": []
    },
    {
      "cell_type": "code",
      "metadata": {
        "id": "nM5L4tThOrEb",
        "outputId": "f7b1962b-4e3c-4c6f-af3f-f7b56a1c0e4f",
        "colab": {
          "base_uri": "https://localhost:8080/",
          "height": 404
        }
      },
      "source": [
        "df = pd.read_csv('/content/indian-food-101/indian_food.csv')\n",
        "df"
      ],
      "execution_count": null,
      "outputs": [
        {
          "output_type": "execute_result",
          "data": {
            "text/html": [
              "<div>\n",
              "<style scoped>\n",
              "    .dataframe tbody tr th:only-of-type {\n",
              "        vertical-align: middle;\n",
              "    }\n",
              "\n",
              "    .dataframe tbody tr th {\n",
              "        vertical-align: top;\n",
              "    }\n",
              "\n",
              "    .dataframe thead th {\n",
              "        text-align: right;\n",
              "    }\n",
              "</style>\n",
              "<table border=\"1\" class=\"dataframe\">\n",
              "  <thead>\n",
              "    <tr style=\"text-align: right;\">\n",
              "      <th></th>\n",
              "      <th>name</th>\n",
              "      <th>ingredients</th>\n",
              "      <th>diet</th>\n",
              "      <th>prep_time</th>\n",
              "      <th>cook_time</th>\n",
              "      <th>flavor_profile</th>\n",
              "      <th>course</th>\n",
              "      <th>state</th>\n",
              "      <th>region</th>\n",
              "    </tr>\n",
              "  </thead>\n",
              "  <tbody>\n",
              "    <tr>\n",
              "      <th>0</th>\n",
              "      <td>Balu shahi</td>\n",
              "      <td>Maida flour, yogurt, oil, sugar</td>\n",
              "      <td>vegetarian</td>\n",
              "      <td>45</td>\n",
              "      <td>25</td>\n",
              "      <td>sweet</td>\n",
              "      <td>dessert</td>\n",
              "      <td>West Bengal</td>\n",
              "      <td>East</td>\n",
              "    </tr>\n",
              "    <tr>\n",
              "      <th>1</th>\n",
              "      <td>Boondi</td>\n",
              "      <td>Gram flour, ghee, sugar</td>\n",
              "      <td>vegetarian</td>\n",
              "      <td>80</td>\n",
              "      <td>30</td>\n",
              "      <td>sweet</td>\n",
              "      <td>dessert</td>\n",
              "      <td>Rajasthan</td>\n",
              "      <td>West</td>\n",
              "    </tr>\n",
              "    <tr>\n",
              "      <th>2</th>\n",
              "      <td>Gajar ka halwa</td>\n",
              "      <td>Carrots, milk, sugar, ghee, cashews, raisins</td>\n",
              "      <td>vegetarian</td>\n",
              "      <td>15</td>\n",
              "      <td>60</td>\n",
              "      <td>sweet</td>\n",
              "      <td>dessert</td>\n",
              "      <td>Punjab</td>\n",
              "      <td>North</td>\n",
              "    </tr>\n",
              "    <tr>\n",
              "      <th>3</th>\n",
              "      <td>Ghevar</td>\n",
              "      <td>Flour, ghee, kewra, milk, clarified butter, su...</td>\n",
              "      <td>vegetarian</td>\n",
              "      <td>15</td>\n",
              "      <td>30</td>\n",
              "      <td>sweet</td>\n",
              "      <td>dessert</td>\n",
              "      <td>Rajasthan</td>\n",
              "      <td>West</td>\n",
              "    </tr>\n",
              "    <tr>\n",
              "      <th>4</th>\n",
              "      <td>Gulab jamun</td>\n",
              "      <td>Milk powder, plain flour, baking powder, ghee,...</td>\n",
              "      <td>vegetarian</td>\n",
              "      <td>15</td>\n",
              "      <td>40</td>\n",
              "      <td>sweet</td>\n",
              "      <td>dessert</td>\n",
              "      <td>West Bengal</td>\n",
              "      <td>East</td>\n",
              "    </tr>\n",
              "    <tr>\n",
              "      <th>...</th>\n",
              "      <td>...</td>\n",
              "      <td>...</td>\n",
              "      <td>...</td>\n",
              "      <td>...</td>\n",
              "      <td>...</td>\n",
              "      <td>...</td>\n",
              "      <td>...</td>\n",
              "      <td>...</td>\n",
              "      <td>...</td>\n",
              "    </tr>\n",
              "    <tr>\n",
              "      <th>250</th>\n",
              "      <td>Til Pitha</td>\n",
              "      <td>Glutinous rice, black sesame seeds, gur</td>\n",
              "      <td>vegetarian</td>\n",
              "      <td>5</td>\n",
              "      <td>30</td>\n",
              "      <td>sweet</td>\n",
              "      <td>dessert</td>\n",
              "      <td>Assam</td>\n",
              "      <td>North East</td>\n",
              "    </tr>\n",
              "    <tr>\n",
              "      <th>251</th>\n",
              "      <td>Bebinca</td>\n",
              "      <td>Coconut milk, egg yolks, clarified butter, all...</td>\n",
              "      <td>vegetarian</td>\n",
              "      <td>20</td>\n",
              "      <td>60</td>\n",
              "      <td>sweet</td>\n",
              "      <td>dessert</td>\n",
              "      <td>Goa</td>\n",
              "      <td>West</td>\n",
              "    </tr>\n",
              "    <tr>\n",
              "      <th>252</th>\n",
              "      <td>Shufta</td>\n",
              "      <td>Cottage cheese, dry dates, dried rose petals, ...</td>\n",
              "      <td>vegetarian</td>\n",
              "      <td>-1</td>\n",
              "      <td>-1</td>\n",
              "      <td>sweet</td>\n",
              "      <td>dessert</td>\n",
              "      <td>Jammu &amp; Kashmir</td>\n",
              "      <td>North</td>\n",
              "    </tr>\n",
              "    <tr>\n",
              "      <th>253</th>\n",
              "      <td>Mawa Bati</td>\n",
              "      <td>Milk powder, dry fruits, arrowroot powder, all...</td>\n",
              "      <td>vegetarian</td>\n",
              "      <td>20</td>\n",
              "      <td>45</td>\n",
              "      <td>sweet</td>\n",
              "      <td>dessert</td>\n",
              "      <td>Madhya Pradesh</td>\n",
              "      <td>Central</td>\n",
              "    </tr>\n",
              "    <tr>\n",
              "      <th>254</th>\n",
              "      <td>Pinaca</td>\n",
              "      <td>Brown rice, fennel seeds, grated coconut, blac...</td>\n",
              "      <td>vegetarian</td>\n",
              "      <td>-1</td>\n",
              "      <td>-1</td>\n",
              "      <td>sweet</td>\n",
              "      <td>dessert</td>\n",
              "      <td>Goa</td>\n",
              "      <td>West</td>\n",
              "    </tr>\n",
              "  </tbody>\n",
              "</table>\n",
              "<p>255 rows × 9 columns</p>\n",
              "</div>"
            ],
            "text/plain": [
              "               name  ...      region\n",
              "0        Balu shahi  ...        East\n",
              "1            Boondi  ...        West\n",
              "2    Gajar ka halwa  ...       North\n",
              "3            Ghevar  ...        West\n",
              "4       Gulab jamun  ...        East\n",
              "..              ...  ...         ...\n",
              "250       Til Pitha  ...  North East\n",
              "251         Bebinca  ...        West\n",
              "252          Shufta  ...       North\n",
              "253       Mawa Bati  ...     Central\n",
              "254          Pinaca  ...        West\n",
              "\n",
              "[255 rows x 9 columns]"
            ]
          },
          "metadata": {
            "tags": []
          },
          "execution_count": 8
        }
      ]
    },
    {
      "cell_type": "code",
      "metadata": {
        "id": "hvwx3iTNuqOH",
        "outputId": "ad775185-1652-41f6-9860-b76060f8e031",
        "colab": {
          "base_uri": "https://localhost:8080/",
          "height": 404
        }
      },
      "source": [
        "# Droping the missing values and 'ingredients' column\n",
        "df = df.drop(['ingredients'],axis=1).dropna(axis=0)\n",
        "df"
      ],
      "execution_count": null,
      "outputs": [
        {
          "output_type": "execute_result",
          "data": {
            "text/html": [
              "<div>\n",
              "<style scoped>\n",
              "    .dataframe tbody tr th:only-of-type {\n",
              "        vertical-align: middle;\n",
              "    }\n",
              "\n",
              "    .dataframe tbody tr th {\n",
              "        vertical-align: top;\n",
              "    }\n",
              "\n",
              "    .dataframe thead th {\n",
              "        text-align: right;\n",
              "    }\n",
              "</style>\n",
              "<table border=\"1\" class=\"dataframe\">\n",
              "  <thead>\n",
              "    <tr style=\"text-align: right;\">\n",
              "      <th></th>\n",
              "      <th>name</th>\n",
              "      <th>diet</th>\n",
              "      <th>prep_time</th>\n",
              "      <th>cook_time</th>\n",
              "      <th>flavor_profile</th>\n",
              "      <th>course</th>\n",
              "      <th>state</th>\n",
              "      <th>region</th>\n",
              "    </tr>\n",
              "  </thead>\n",
              "  <tbody>\n",
              "    <tr>\n",
              "      <th>0</th>\n",
              "      <td>Balu shahi</td>\n",
              "      <td>vegetarian</td>\n",
              "      <td>45</td>\n",
              "      <td>25</td>\n",
              "      <td>sweet</td>\n",
              "      <td>dessert</td>\n",
              "      <td>West Bengal</td>\n",
              "      <td>East</td>\n",
              "    </tr>\n",
              "    <tr>\n",
              "      <th>1</th>\n",
              "      <td>Boondi</td>\n",
              "      <td>vegetarian</td>\n",
              "      <td>80</td>\n",
              "      <td>30</td>\n",
              "      <td>sweet</td>\n",
              "      <td>dessert</td>\n",
              "      <td>Rajasthan</td>\n",
              "      <td>West</td>\n",
              "    </tr>\n",
              "    <tr>\n",
              "      <th>2</th>\n",
              "      <td>Gajar ka halwa</td>\n",
              "      <td>vegetarian</td>\n",
              "      <td>15</td>\n",
              "      <td>60</td>\n",
              "      <td>sweet</td>\n",
              "      <td>dessert</td>\n",
              "      <td>Punjab</td>\n",
              "      <td>North</td>\n",
              "    </tr>\n",
              "    <tr>\n",
              "      <th>3</th>\n",
              "      <td>Ghevar</td>\n",
              "      <td>vegetarian</td>\n",
              "      <td>15</td>\n",
              "      <td>30</td>\n",
              "      <td>sweet</td>\n",
              "      <td>dessert</td>\n",
              "      <td>Rajasthan</td>\n",
              "      <td>West</td>\n",
              "    </tr>\n",
              "    <tr>\n",
              "      <th>4</th>\n",
              "      <td>Gulab jamun</td>\n",
              "      <td>vegetarian</td>\n",
              "      <td>15</td>\n",
              "      <td>40</td>\n",
              "      <td>sweet</td>\n",
              "      <td>dessert</td>\n",
              "      <td>West Bengal</td>\n",
              "      <td>East</td>\n",
              "    </tr>\n",
              "    <tr>\n",
              "      <th>...</th>\n",
              "      <td>...</td>\n",
              "      <td>...</td>\n",
              "      <td>...</td>\n",
              "      <td>...</td>\n",
              "      <td>...</td>\n",
              "      <td>...</td>\n",
              "      <td>...</td>\n",
              "      <td>...</td>\n",
              "    </tr>\n",
              "    <tr>\n",
              "      <th>250</th>\n",
              "      <td>Til Pitha</td>\n",
              "      <td>vegetarian</td>\n",
              "      <td>5</td>\n",
              "      <td>30</td>\n",
              "      <td>sweet</td>\n",
              "      <td>dessert</td>\n",
              "      <td>Assam</td>\n",
              "      <td>North East</td>\n",
              "    </tr>\n",
              "    <tr>\n",
              "      <th>251</th>\n",
              "      <td>Bebinca</td>\n",
              "      <td>vegetarian</td>\n",
              "      <td>20</td>\n",
              "      <td>60</td>\n",
              "      <td>sweet</td>\n",
              "      <td>dessert</td>\n",
              "      <td>Goa</td>\n",
              "      <td>West</td>\n",
              "    </tr>\n",
              "    <tr>\n",
              "      <th>252</th>\n",
              "      <td>Shufta</td>\n",
              "      <td>vegetarian</td>\n",
              "      <td>-1</td>\n",
              "      <td>-1</td>\n",
              "      <td>sweet</td>\n",
              "      <td>dessert</td>\n",
              "      <td>Jammu &amp; Kashmir</td>\n",
              "      <td>North</td>\n",
              "    </tr>\n",
              "    <tr>\n",
              "      <th>253</th>\n",
              "      <td>Mawa Bati</td>\n",
              "      <td>vegetarian</td>\n",
              "      <td>20</td>\n",
              "      <td>45</td>\n",
              "      <td>sweet</td>\n",
              "      <td>dessert</td>\n",
              "      <td>Madhya Pradesh</td>\n",
              "      <td>Central</td>\n",
              "    </tr>\n",
              "    <tr>\n",
              "      <th>254</th>\n",
              "      <td>Pinaca</td>\n",
              "      <td>vegetarian</td>\n",
              "      <td>-1</td>\n",
              "      <td>-1</td>\n",
              "      <td>sweet</td>\n",
              "      <td>dessert</td>\n",
              "      <td>Goa</td>\n",
              "      <td>West</td>\n",
              "    </tr>\n",
              "  </tbody>\n",
              "</table>\n",
              "<p>254 rows × 8 columns</p>\n",
              "</div>"
            ],
            "text/plain": [
              "               name        diet  ...            state      region\n",
              "0        Balu shahi  vegetarian  ...      West Bengal        East\n",
              "1            Boondi  vegetarian  ...        Rajasthan        West\n",
              "2    Gajar ka halwa  vegetarian  ...           Punjab       North\n",
              "3            Ghevar  vegetarian  ...        Rajasthan        West\n",
              "4       Gulab jamun  vegetarian  ...      West Bengal        East\n",
              "..              ...         ...  ...              ...         ...\n",
              "250       Til Pitha  vegetarian  ...            Assam  North East\n",
              "251         Bebinca  vegetarian  ...              Goa        West\n",
              "252          Shufta  vegetarian  ...  Jammu & Kashmir       North\n",
              "253       Mawa Bati  vegetarian  ...   Madhya Pradesh     Central\n",
              "254          Pinaca  vegetarian  ...              Goa        West\n",
              "\n",
              "[254 rows x 8 columns]"
            ]
          },
          "metadata": {
            "tags": []
          },
          "execution_count": 9
        }
      ]
    },
    {
      "cell_type": "code",
      "metadata": {
        "id": "GS2YcJGk45S1",
        "outputId": "dc5f7bf3-bb3d-4c5f-c2c8-339c19d34aef",
        "colab": {
          "base_uri": "https://localhost:8080/",
          "height": 404
        }
      },
      "source": [
        "# Removing data with invalid entries (-1)\n",
        "df1= df[df.prep_time !=-1]\n",
        "df1= df1[df1.cook_time !=-1]\n",
        "df1= df1[df1.flavor_profile !='-1']\n",
        "df1= df1[df1.state !='-1']\n",
        "df1= df1[df1.region !='-1']\n",
        "df1"
      ],
      "execution_count": null,
      "outputs": [
        {
          "output_type": "execute_result",
          "data": {
            "text/html": [
              "<div>\n",
              "<style scoped>\n",
              "    .dataframe tbody tr th:only-of-type {\n",
              "        vertical-align: middle;\n",
              "    }\n",
              "\n",
              "    .dataframe tbody tr th {\n",
              "        vertical-align: top;\n",
              "    }\n",
              "\n",
              "    .dataframe thead th {\n",
              "        text-align: right;\n",
              "    }\n",
              "</style>\n",
              "<table border=\"1\" class=\"dataframe\">\n",
              "  <thead>\n",
              "    <tr style=\"text-align: right;\">\n",
              "      <th></th>\n",
              "      <th>name</th>\n",
              "      <th>diet</th>\n",
              "      <th>prep_time</th>\n",
              "      <th>cook_time</th>\n",
              "      <th>flavor_profile</th>\n",
              "      <th>course</th>\n",
              "      <th>state</th>\n",
              "      <th>region</th>\n",
              "    </tr>\n",
              "  </thead>\n",
              "  <tbody>\n",
              "    <tr>\n",
              "      <th>0</th>\n",
              "      <td>Balu shahi</td>\n",
              "      <td>vegetarian</td>\n",
              "      <td>45</td>\n",
              "      <td>25</td>\n",
              "      <td>sweet</td>\n",
              "      <td>dessert</td>\n",
              "      <td>West Bengal</td>\n",
              "      <td>East</td>\n",
              "    </tr>\n",
              "    <tr>\n",
              "      <th>1</th>\n",
              "      <td>Boondi</td>\n",
              "      <td>vegetarian</td>\n",
              "      <td>80</td>\n",
              "      <td>30</td>\n",
              "      <td>sweet</td>\n",
              "      <td>dessert</td>\n",
              "      <td>Rajasthan</td>\n",
              "      <td>West</td>\n",
              "    </tr>\n",
              "    <tr>\n",
              "      <th>2</th>\n",
              "      <td>Gajar ka halwa</td>\n",
              "      <td>vegetarian</td>\n",
              "      <td>15</td>\n",
              "      <td>60</td>\n",
              "      <td>sweet</td>\n",
              "      <td>dessert</td>\n",
              "      <td>Punjab</td>\n",
              "      <td>North</td>\n",
              "    </tr>\n",
              "    <tr>\n",
              "      <th>3</th>\n",
              "      <td>Ghevar</td>\n",
              "      <td>vegetarian</td>\n",
              "      <td>15</td>\n",
              "      <td>30</td>\n",
              "      <td>sweet</td>\n",
              "      <td>dessert</td>\n",
              "      <td>Rajasthan</td>\n",
              "      <td>West</td>\n",
              "    </tr>\n",
              "    <tr>\n",
              "      <th>4</th>\n",
              "      <td>Gulab jamun</td>\n",
              "      <td>vegetarian</td>\n",
              "      <td>15</td>\n",
              "      <td>40</td>\n",
              "      <td>sweet</td>\n",
              "      <td>dessert</td>\n",
              "      <td>West Bengal</td>\n",
              "      <td>East</td>\n",
              "    </tr>\n",
              "    <tr>\n",
              "      <th>...</th>\n",
              "      <td>...</td>\n",
              "      <td>...</td>\n",
              "      <td>...</td>\n",
              "      <td>...</td>\n",
              "      <td>...</td>\n",
              "      <td>...</td>\n",
              "      <td>...</td>\n",
              "      <td>...</td>\n",
              "    </tr>\n",
              "    <tr>\n",
              "      <th>247</th>\n",
              "      <td>Prawn malai curry</td>\n",
              "      <td>non vegetarian</td>\n",
              "      <td>15</td>\n",
              "      <td>50</td>\n",
              "      <td>spicy</td>\n",
              "      <td>main course</td>\n",
              "      <td>West Bengal</td>\n",
              "      <td>East</td>\n",
              "    </tr>\n",
              "    <tr>\n",
              "      <th>249</th>\n",
              "      <td>Shukto</td>\n",
              "      <td>vegetarian</td>\n",
              "      <td>10</td>\n",
              "      <td>20</td>\n",
              "      <td>spicy</td>\n",
              "      <td>main course</td>\n",
              "      <td>West Bengal</td>\n",
              "      <td>East</td>\n",
              "    </tr>\n",
              "    <tr>\n",
              "      <th>250</th>\n",
              "      <td>Til Pitha</td>\n",
              "      <td>vegetarian</td>\n",
              "      <td>5</td>\n",
              "      <td>30</td>\n",
              "      <td>sweet</td>\n",
              "      <td>dessert</td>\n",
              "      <td>Assam</td>\n",
              "      <td>North East</td>\n",
              "    </tr>\n",
              "    <tr>\n",
              "      <th>251</th>\n",
              "      <td>Bebinca</td>\n",
              "      <td>vegetarian</td>\n",
              "      <td>20</td>\n",
              "      <td>60</td>\n",
              "      <td>sweet</td>\n",
              "      <td>dessert</td>\n",
              "      <td>Goa</td>\n",
              "      <td>West</td>\n",
              "    </tr>\n",
              "    <tr>\n",
              "      <th>253</th>\n",
              "      <td>Mawa Bati</td>\n",
              "      <td>vegetarian</td>\n",
              "      <td>20</td>\n",
              "      <td>45</td>\n",
              "      <td>sweet</td>\n",
              "      <td>dessert</td>\n",
              "      <td>Madhya Pradesh</td>\n",
              "      <td>Central</td>\n",
              "    </tr>\n",
              "  </tbody>\n",
              "</table>\n",
              "<p>180 rows × 8 columns</p>\n",
              "</div>"
            ],
            "text/plain": [
              "                  name            diet  ...           state      region\n",
              "0           Balu shahi      vegetarian  ...     West Bengal        East\n",
              "1               Boondi      vegetarian  ...       Rajasthan        West\n",
              "2       Gajar ka halwa      vegetarian  ...          Punjab       North\n",
              "3               Ghevar      vegetarian  ...       Rajasthan        West\n",
              "4          Gulab jamun      vegetarian  ...     West Bengal        East\n",
              "..                 ...             ...  ...             ...         ...\n",
              "247  Prawn malai curry  non vegetarian  ...     West Bengal        East\n",
              "249             Shukto      vegetarian  ...     West Bengal        East\n",
              "250          Til Pitha      vegetarian  ...           Assam  North East\n",
              "251            Bebinca      vegetarian  ...             Goa        West\n",
              "253          Mawa Bati      vegetarian  ...  Madhya Pradesh     Central\n",
              "\n",
              "[180 rows x 8 columns]"
            ]
          },
          "metadata": {
            "tags": []
          },
          "execution_count": 10
        }
      ]
    },
    {
      "cell_type": "markdown",
      "metadata": {
        "id": "EgH55GJbOrEy"
      },
      "source": [
        "## Exploratory Analysis and Visualization\n",
        "*   Importing **libraries for visualization** i.e **matplotlib, seaborn, etc.**\n",
        "*   Exploring all **Data Columns** using **.info() method**.\n",
        "*   Computing intersting **statistics** for **numeric** columns using **.describe()** method.\n",
        "*   Exploring **Dietwise i.e Veg/non-veg** No. of dishes.\n",
        "*   Exploring **Coursewise i.e dessert, snack, main course, starter** No. of dishes.\n",
        "*   Exploring **Statewise** No. of dishes.\n",
        "*   Exploring **Regionwise i.e North, South, Central, etc** No. of dishes.\n",
        "*   Exploring **Flavorwise i.e Sweet, Sour, Spicy, etc** No. of dishes."
      ]
    },
    {
      "cell_type": "code",
      "metadata": {
        "id": "EA2wGTftOrEz"
      },
      "source": [
        "import seaborn as sns\n",
        "import matplotlib\n",
        "import matplotlib.pyplot as plt\n",
        "%matplotlib inline\n",
        "\n",
        "sns.set_style('darkgrid')\n",
        "matplotlib.rcParams['font.size'] = 14\n",
        "matplotlib.rcParams['figure.figsize'] = (9, 5)\n",
        "matplotlib.rcParams['figure.facecolor'] = '#00000000'"
      ],
      "execution_count": null,
      "outputs": []
    },
    {
      "cell_type": "code",
      "metadata": {
        "id": "zukL_W38zXYU",
        "outputId": "97cb48d1-57a3-4ee5-babc-35570fd5a1b2",
        "colab": {
          "base_uri": "https://localhost:8080/",
          "height": 268
        }
      },
      "source": [
        "df1.info()"
      ],
      "execution_count": null,
      "outputs": [
        {
          "output_type": "stream",
          "text": [
            "<class 'pandas.core.frame.DataFrame'>\n",
            "Int64Index: 180 entries, 0 to 253\n",
            "Data columns (total 8 columns):\n",
            " #   Column          Non-Null Count  Dtype \n",
            "---  ------          --------------  ----- \n",
            " 0   name            180 non-null    object\n",
            " 1   diet            180 non-null    object\n",
            " 2   prep_time       180 non-null    int64 \n",
            " 3   cook_time       180 non-null    int64 \n",
            " 4   flavor_profile  180 non-null    object\n",
            " 5   course          180 non-null    object\n",
            " 6   state           180 non-null    object\n",
            " 7   region          180 non-null    object\n",
            "dtypes: int64(2), object(6)\n",
            "memory usage: 12.7+ KB\n"
          ],
          "name": "stdout"
        }
      ]
    },
    {
      "cell_type": "code",
      "metadata": {
        "id": "URo5yN3r4knY",
        "outputId": "cbe79ad6-f0ae-47d3-d1bd-d914f13a6292",
        "colab": {
          "base_uri": "https://localhost:8080/",
          "height": 286
        }
      },
      "source": [
        "df1.describe()"
      ],
      "execution_count": null,
      "outputs": [
        {
          "output_type": "execute_result",
          "data": {
            "text/html": [
              "<div>\n",
              "<style scoped>\n",
              "    .dataframe tbody tr th:only-of-type {\n",
              "        vertical-align: middle;\n",
              "    }\n",
              "\n",
              "    .dataframe tbody tr th {\n",
              "        vertical-align: top;\n",
              "    }\n",
              "\n",
              "    .dataframe thead th {\n",
              "        text-align: right;\n",
              "    }\n",
              "</style>\n",
              "<table border=\"1\" class=\"dataframe\">\n",
              "  <thead>\n",
              "    <tr style=\"text-align: right;\">\n",
              "      <th></th>\n",
              "      <th>prep_time</th>\n",
              "      <th>cook_time</th>\n",
              "    </tr>\n",
              "  </thead>\n",
              "  <tbody>\n",
              "    <tr>\n",
              "      <th>count</th>\n",
              "      <td>180.000000</td>\n",
              "      <td>180.000000</td>\n",
              "    </tr>\n",
              "    <tr>\n",
              "      <th>mean</th>\n",
              "      <td>30.705556</td>\n",
              "      <td>40.366667</td>\n",
              "    </tr>\n",
              "    <tr>\n",
              "      <th>std</th>\n",
              "      <td>64.158036</td>\n",
              "      <td>54.377215</td>\n",
              "    </tr>\n",
              "    <tr>\n",
              "      <th>min</th>\n",
              "      <td>5.000000</td>\n",
              "      <td>5.000000</td>\n",
              "    </tr>\n",
              "    <tr>\n",
              "      <th>25%</th>\n",
              "      <td>10.000000</td>\n",
              "      <td>25.000000</td>\n",
              "    </tr>\n",
              "    <tr>\n",
              "      <th>50%</th>\n",
              "      <td>10.000000</td>\n",
              "      <td>30.000000</td>\n",
              "    </tr>\n",
              "    <tr>\n",
              "      <th>75%</th>\n",
              "      <td>20.000000</td>\n",
              "      <td>45.000000</td>\n",
              "    </tr>\n",
              "    <tr>\n",
              "      <th>max</th>\n",
              "      <td>500.000000</td>\n",
              "      <td>720.000000</td>\n",
              "    </tr>\n",
              "  </tbody>\n",
              "</table>\n",
              "</div>"
            ],
            "text/plain": [
              "        prep_time   cook_time\n",
              "count  180.000000  180.000000\n",
              "mean    30.705556   40.366667\n",
              "std     64.158036   54.377215\n",
              "min      5.000000    5.000000\n",
              "25%     10.000000   25.000000\n",
              "50%     10.000000   30.000000\n",
              "75%     20.000000   45.000000\n",
              "max    500.000000  720.000000"
            ]
          },
          "metadata": {
            "tags": []
          },
          "execution_count": 13
        }
      ]
    },
    {
      "cell_type": "code",
      "metadata": {
        "id": "6m8ddjdDOrE4",
        "outputId": "0800cd4e-eae5-46e7-e30a-4b9cab7a0c5c",
        "colab": {
          "base_uri": "https://localhost:8080/",
          "height": 100
        }
      },
      "source": [
        "# Coursewise No. of dishes\n",
        "course_counts = df1.course.value_counts()\n",
        "course_counts"
      ],
      "execution_count": null,
      "outputs": [
        {
          "output_type": "execute_result",
          "data": {
            "text/plain": [
              "main course    83\n",
              "dessert        70\n",
              "snack          25\n",
              "starter         2\n",
              "Name: course, dtype: int64"
            ]
          },
          "metadata": {
            "tags": []
          },
          "execution_count": 14
        }
      ]
    },
    {
      "cell_type": "code",
      "metadata": {
        "id": "jE-6BMNJ_fbA",
        "outputId": "6583fead-272e-47ff-9409-6179b5029f36",
        "colab": {
          "base_uri": "https://localhost:8080/",
          "height": 377
        }
      },
      "source": [
        "plt.figure(figsize=(12,6))\n",
        "plt.title('Coursewise distribution of Indian dishes')\n",
        "plt.pie(course_counts, labels=course_counts.index, autopct='%1.1f%%', startangle=180);"
      ],
      "execution_count": null,
      "outputs": [
        {
          "output_type": "display_data",
          "data": {
            "image/png": "[encoded data removed]",
            "text/plain": [
              "<Figure size 864x432 with 1 Axes>"
            ]
          },
          "metadata": {
            "tags": []
          }
        }
      ]
    },
    {
      "cell_type": "markdown",
      "metadata": {
        "id": "xsYFN0DSOrE7"
      },
      "source": [
        "The pie chart clearly shows the coursewise distribution of Indian dishes.\n",
        "\n",
        "*   About **46%** of Indian dishes comes under **main course** which is the **highest** among all courses.\n",
        "*   And only **1%** of Indian dishes comes under **starter** which is the **least** among all courses.\n",
        "\n"
      ]
    },
    {
      "cell_type": "code",
      "metadata": {
        "id": "rdWpepAMOrE7",
        "outputId": "d6d485c6-2bc9-4dd2-8192-a23bb0fd1663",
        "colab": {
          "base_uri": "https://localhost:8080/",
          "height": 100
        }
      },
      "source": [
        "# Flavorwise No. of dishes\n",
        "flavor_counts = df1.flavor_profile.value_counts()\n",
        "flavor_counts"
      ],
      "execution_count": null,
      "outputs": [
        {
          "output_type": "execute_result",
          "data": {
            "text/plain": [
              "spicy     102\n",
              "sweet      73\n",
              "bitter      4\n",
              "sour        1\n",
              "Name: flavor_profile, dtype: int64"
            ]
          },
          "metadata": {
            "tags": []
          },
          "execution_count": 16
        }
      ]
    },
    {
      "cell_type": "code",
      "metadata": {
        "id": "M6myA8HKOrE_",
        "outputId": "13019eea-67cd-4cb1-aabb-e37b9c2bc157",
        "colab": {
          "base_uri": "https://localhost:8080/",
          "height": 377
        }
      },
      "source": [
        "plt.figure(figsize=(12,6))\n",
        "plt.title('Flavorwise distribution of Indian dishes')\n",
        "plt.pie(flavor_counts, labels=flavor_counts.index, autopct='%1.1f%%', startangle=180);"
      ],
      "execution_count": null,
      "outputs": [
        {
          "output_type": "display_data",
          "data": {
            "image/png": "[encoded data removed]",
            "text/plain": [
              "<Figure size 864x432 with 1 Axes>"
            ]
          },
          "metadata": {
            "tags": []
          }
        }
      ]
    },
    {
      "cell_type": "markdown",
      "metadata": {
        "id": "qvA2ZtCxOrFC"
      },
      "source": [
        "The pie chart clearly shows the flavorwise distribution of Indian dishes.\n",
        "\n",
        "*   About **56.7%** of Indian dishes are **spicy** which is the **highest** among all flavors.\n",
        "*   And only **0.6%** of Indian dishes are **sour** which is the **least** among all flavors."
      ]
    },
    {
      "cell_type": "code",
      "metadata": {
        "id": "z2SGu96abUc_",
        "outputId": "73ea1843-3625-4771-9e19-fb10c4a6ba45",
        "colab": {
          "base_uri": "https://localhost:8080/",
          "height": 67
        }
      },
      "source": [
        "# Calculating No. of veg & Non-veg dishes\n",
        "diet_counts = df1.diet.value_counts()\n",
        "diet_counts"
      ],
      "execution_count": null,
      "outputs": [
        {
          "output_type": "execute_result",
          "data": {
            "text/plain": [
              "vegetarian        163\n",
              "non vegetarian     17\n",
              "Name: diet, dtype: int64"
            ]
          },
          "metadata": {
            "tags": []
          },
          "execution_count": 18
        }
      ]
    },
    {
      "cell_type": "code",
      "metadata": {
        "id": "-UsXjBFhbl1m",
        "outputId": "69f2fac0-752b-40f6-e4a9-0ed054659dd9",
        "colab": {
          "base_uri": "https://localhost:8080/",
          "height": 377
        }
      },
      "source": [
        "# Calculating No. of veg & Non-veg dishes\n",
        "plt.figure(figsize=(12,6))\n",
        "plt.title('Dietwise distribution of Indian dishes')\n",
        "plt.pie(diet_counts, labels=diet_counts.index, autopct='%1.1f%%', startangle=360);"
      ],
      "execution_count": null,
      "outputs": [
        {
          "output_type": "display_data",
          "data": {
            "image/png": "[encoded data removed]",
            "text/plain": [
              "<Figure size 864x432 with 1 Axes>"
            ]
          },
          "metadata": {
            "tags": []
          }
        }
      ]
    },
    {
      "cell_type": "markdown",
      "metadata": {
        "id": "ylwqSNFkcOPT"
      },
      "source": [
        "The pie chart clearly shows the dietwise distribution of Indian dishes.\n",
        "\n",
        "*   About **91%** of Indian dishes are **veg**.\n",
        "*   And only **9%** of Indian dishes are **Non-veg**."
      ]
    },
    {
      "cell_type": "code",
      "metadata": {
        "id": "MmQrli6tOrFC",
        "outputId": "4807f418-850b-45d4-a5ba-80c2c11a8844",
        "colab": {
          "base_uri": "https://localhost:8080/",
          "height": 456
        }
      },
      "source": [
        "sns.countplot(x=df1.state)\n",
        "plt.xticks(rotation=85);\n",
        "plt.title('Statewise number of Indian dishes')\n",
        "plt.xlabel(None);"
      ],
      "execution_count": null,
      "outputs": [
        {
          "output_type": "display_data",
          "data": {
            "image/png": "[encoded data removed]",
            "text/plain": [
              "<Figure size 648x360 with 1 Axes>"
            ]
          },
          "metadata": {
            "tags": [],
            "needs_background": "light"
          }
        }
      ]
    },
    {
      "cell_type": "markdown",
      "metadata": {
        "id": "CjatM10GYiqY"
      },
      "source": [
        "From this graph we can clearly see the which state of India has more number of dishes.\n",
        "*   **Punjab** has the **highest** number of dishes about **30 dishes**.\n",
        "*   Closely followed by **Gujarat** having the **second highest** number of dishes about **29 dishes**.\n",
        "*   And states like **Nagaland, Jammu & Kashmir, Uttarakhand, Manipur, Chhattisgarh** have very few dishes."
      ]
    },
    {
      "cell_type": "code",
      "metadata": {
        "id": "BBo-RD-8PUtj",
        "outputId": "885f7ad7-5314-424f-8b3f-40b81477ad8a",
        "colab": {
          "base_uri": "https://localhost:8080/",
          "height": 362
        }
      },
      "source": [
        "sns.countplot(y=df1.region)\n",
        "plt.title('Regionwise number of Indian dishes')\n",
        "plt.ylabel(None);"
      ],
      "execution_count": null,
      "outputs": [
        {
          "output_type": "display_data",
          "data": {
            "image/png": "[encoded data removed]",
            "text/plain": [
              "<Figure size 648x360 with 1 Axes>"
            ]
          },
          "metadata": {
            "tags": [],
            "needs_background": "light"
          }
        }
      ]
    },
    {
      "cell_type": "markdown",
      "metadata": {
        "id": "_xM4f08pOrFH"
      },
      "source": [
        "From this graph we can clearly see the which region of India has more number of dishes.\n",
        "*   **West India** has the **highest** number of dishes about **60 dishes**.\n",
        "*   Followed by **North India** having the **second highest** number of dishes about **45 dishes**.\n",
        "*   And **Central India** has the **least** number of dishes about **3 dishes**.\n",
        "\n"
      ]
    },
    {
      "cell_type": "markdown",
      "metadata": {
        "id": "zdJDVTuEOrFa"
      },
      "source": [
        "## Let's **answer** some of the interesting **questions** about the dataset.\n",
        "\n"
      ]
    },
    {
      "cell_type": "markdown",
      "metadata": {
        "id": "gXC9SWQHOrFb"
      },
      "source": [
        "### **Q1: Most of the Indian dishes comes under, Which type of diet i.e veg/non-veg?**"
      ]
    },
    {
      "cell_type": "code",
      "metadata": {
        "id": "xzjI2Ws8FruH",
        "outputId": "b5e3a65a-f4a2-4e52-e854-2f40c9f2e9bb",
        "colab": {
          "base_uri": "https://localhost:8080/",
          "height": 33
        }
      },
      "source": [
        "total_dishes = 180\n",
        "non_veg_dishes = (100*diet_counts[0]/total_dishes)\n",
        "print('{:.1f}'.format(non_veg_dishes))"
      ],
      "execution_count": null,
      "outputs": [
        {
          "output_type": "stream",
          "text": [
            "90.6\n"
          ],
          "name": "stdout"
        }
      ]
    },
    {
      "cell_type": "markdown",
      "metadata": {
        "id": "F4SHZU5iErfT"
      },
      "source": [
        "### **Answer:** **90.6%** of Indian dishes comes under **veg** category."
      ]
    },
    {
      "cell_type": "markdown",
      "metadata": {
        "id": "Wmg3jW9HOrFj"
      },
      "source": [
        "### **Q2: Which are the top three states in India having highest number of dishes?**"
      ]
    },
    {
      "cell_type": "code",
      "metadata": {
        "id": "cfJ3gMtqKPLy",
        "outputId": "7f962f12-e45b-48a8-8609-3be84bb3a74a",
        "colab": {
          "base_uri": "https://localhost:8080/",
          "height": 84
        }
      },
      "source": [
        "top_state_counts = df1.state.value_counts()\n",
        "top_state_counts.head(3)"
      ],
      "execution_count": null,
      "outputs": [
        {
          "output_type": "execute_result",
          "data": {
            "text/plain": [
              "Punjab         30\n",
              "Gujarat        29\n",
              "Maharashtra    23\n",
              "Name: state, dtype: int64"
            ]
          },
          "metadata": {
            "tags": []
          },
          "execution_count": 23
        }
      ]
    },
    {
      "cell_type": "markdown",
      "metadata": {
        "id": "rZmRDLe-EkMo"
      },
      "source": [
        "### **Answer:** Top three Indian states having highest number of dishes are **Punjab**, **Gujarat**, and **Maharashtra**."
      ]
    },
    {
      "cell_type": "markdown",
      "metadata": {
        "id": "NEW5-YAAOrFt"
      },
      "source": [
        "### **Q3: Most of the Indian dishes comes under, Which type of course?**\n"
      ]
    },
    {
      "cell_type": "code",
      "metadata": {
        "id": "-Lq3a4l-MhDy",
        "outputId": "4a916e9e-9738-44d0-d5c7-c54593d7b102",
        "colab": {
          "base_uri": "https://localhost:8080/",
          "height": 100
        }
      },
      "source": [
        "course_counts = df1.course.value_counts()\n",
        "course_counts"
      ],
      "execution_count": null,
      "outputs": [
        {
          "output_type": "execute_result",
          "data": {
            "text/plain": [
              "main course    83\n",
              "dessert        70\n",
              "snack          25\n",
              "starter         2\n",
              "Name: course, dtype: int64"
            ]
          },
          "metadata": {
            "tags": []
          },
          "execution_count": 24
        }
      ]
    },
    {
      "cell_type": "markdown",
      "metadata": {
        "id": "Zw-_PAgyBltW"
      },
      "source": [
        "### **Answer:** Most of the Indian dishes comes under **Main-course** category."
      ]
    },
    {
      "cell_type": "markdown",
      "metadata": {
        "id": "sMlwztPeOrF3"
      },
      "source": [
        "### **Q4: What type of flavor Most of the Indians prefer in the various dishes?**"
      ]
    },
    {
      "cell_type": "code",
      "metadata": {
        "id": "fNroM8dAPbgO",
        "outputId": "695157d0-4eb1-4440-cfd7-872444c464bd",
        "colab": {
          "base_uri": "https://localhost:8080/",
          "height": 100
        }
      },
      "source": [
        "flavor_counts = df1.flavor_profile.value_counts()\n",
        "flavor_counts"
      ],
      "execution_count": null,
      "outputs": [
        {
          "output_type": "execute_result",
          "data": {
            "text/plain": [
              "spicy     102\n",
              "sweet      73\n",
              "bitter      4\n",
              "sour        1\n",
              "Name: flavor_profile, dtype: int64"
            ]
          },
          "metadata": {
            "tags": []
          },
          "execution_count": 25
        }
      ]
    },
    {
      "cell_type": "markdown",
      "metadata": {
        "id": "edgaZrOREZCX"
      },
      "source": [
        "### **Answer:** Most of the Indian likes **spicy** flavor in their dishes followed by **sweet** flavor."
      ]
    },
    {
      "cell_type": "markdown",
      "metadata": {
        "id": "OjQlfNnYOrF-"
      },
      "source": [
        "### **Q5: Which region of India has the highest and the least number of dishes?**"
      ]
    },
    {
      "cell_type": "code",
      "metadata": {
        "id": "o8XoWZEuQjVq",
        "outputId": "163b72ed-22ed-47c0-8395-61155dcb74fd",
        "colab": {
          "base_uri": "https://localhost:8080/",
          "height": 134
        }
      },
      "source": [
        "region_counts = df1.region.value_counts()\n",
        "region_counts"
      ],
      "execution_count": null,
      "outputs": [
        {
          "output_type": "execute_result",
          "data": {
            "text/plain": [
              "West          60\n",
              "North         45\n",
              "South         37\n",
              "East          25\n",
              "North East    10\n",
              "Central        3\n",
              "Name: region, dtype: int64"
            ]
          },
          "metadata": {
            "tags": []
          },
          "execution_count": 26
        }
      ]
    },
    {
      "cell_type": "markdown",
      "metadata": {
        "id": "txtlVHvyEZAk"
      },
      "source": [
        "### **Answer:** **West India** has the highest number of dishes and **Central India** has the least number of dishes."
      ]
    },
    {
      "cell_type": "markdown",
      "metadata": {
        "id": "l4Yl_CVrOrGP"
      },
      "source": [
        "## **Inferences and Conclusion:**\n",
        "* Most of the Indian dishes are **Vegetarian**.\n",
        "* Large number of Indian dishes have **spicy** flavor.\n",
        "* A large number of Indain dishes are served as **main course**.\n",
        "* **Punjab** has the highest number of dishes followed by **Gujarat**.\n"
      ]
    },
    {
      "cell_type": "markdown",
      "metadata": {
        "id": "VGinNmjXOrGZ"
      },
      "source": [
        "# ***References and Future Work***\n",
        "\n",
        "### *Here are some ideas for further exploration:*\n",
        "*   Statewise analysis for Veg/Non-veg dishes.\n",
        "*   Ingredientwise analysis for Indian dishes.\n",
        "*   Preparation-time analysis for Indian dishes.\n",
        "*   Cooking-time analysis for Indian dishes.\n",
        "\n",
        "### *References:*\n",
        "* **Source** of dataset: https://www.kaggle.com/nehaprabhavalkar/indian-food-101\n",
        "* **pandas** library: https://pandas.pydata.org/docs/user_guide/index.html\n",
        "* **matplotlib** library: https://matplotlib.org/3.3.1/users/index.html\n",
        "* **seaborn** library: https://seaborn.pydata.org/tutorial.html\n",
        "* **opendatasets** Python library: https://github.com/JovianML/opendatasets"
      ]
    },
    {
      "cell_type": "code",
      "metadata": {
        "id": "0A9AxdNJOrGZ"
      },
      "source": [
        "import jovian"
      ],
      "execution_count": null,
      "outputs": []
    },
    {
      "cell_type": "code",
      "metadata": {
        "id": "3qXwfctOOrGb",
        "scrolled": true,
        "outputId": "9aaece60-dbea-47c7-b181-89a7086d9325",
        "colab": {
          "base_uri": "https://localhost:8080/",
          "height": 85
        }
      },
      "source": [
        "jovian.commit(project=project_name)"
      ],
      "execution_count": null,
      "outputs": [
        {
          "output_type": "stream",
          "text": [
            "[jovian] Detected Colab notebook...\u001b[0m\n",
            "[jovian] Uploading colab notebook to Jovian...\u001b[0m\n",
            "[jovian] Committed successfully! https://jovian.ml/sanjusaikap2001/indian-food-data-analysis-report\u001b[0m\n"
          ],
          "name": "stdout"
        },
        {
          "output_type": "execute_result",
          "data": {
            "application/vnd.google.colaboratory.intrinsic+json": {
              "type": "string"
            },
            "text/plain": [
              "'https://jovian.ml/sanjusaikap2001/indian-food-data-analysis-report'"
            ]
          },
          "metadata": {
            "tags": []
          },
          "execution_count": 28
        }
      ]
    }
  ]
}